{
  "cells": [
    {
      "cell_type": "markdown",
      "metadata": {
        "id": "view-in-github",
        "colab_type": "text"
      },
      "source": [
        "<a href=\"https://colab.research.google.com/github/maldonadojudith18/Parcial1_Colab_employes/blob/main/parcial1_empleados.ipynb\" target=\"_parent\"><img src=\"https://colab.research.google.com/assets/colab-badge.svg\" alt=\"Open In Colab\"/></a>"
      ]
    },
    {
      "cell_type": "code",
      "execution_count": null,
      "metadata": {
        "colab": {
          "base_uri": "https://localhost:8080/"
        },
        "id": "76Nf4xZvjMzq",
        "outputId": "0361b572-6dc2-4efb-a5bf-422ef7e9aae4"
      },
      "outputs": [
        {
          "output_type": "stream",
          "name": "stdout",
          "text": [
            "Requirement already satisfied: streamlit in /usr/local/lib/python3.7/dist-packages (1.7.0)\n",
            "Requirement already satisfied: tornado>=5.0 in /usr/local/lib/python3.7/dist-packages (from streamlit) (5.1.1)\n",
            "Requirement already satisfied: python-dateutil in /usr/local/lib/python3.7/dist-packages (from streamlit) (2.8.2)\n",
            "Requirement already satisfied: pillow>=6.2.0 in /usr/local/lib/python3.7/dist-packages (from streamlit) (7.1.2)\n",
            "Requirement already satisfied: requests in /usr/local/lib/python3.7/dist-packages (from streamlit) (2.23.0)\n",
            "Requirement already satisfied: watchdog in /usr/local/lib/python3.7/dist-packages (from streamlit) (2.1.6)\n",
            "Requirement already satisfied: semver in /usr/local/lib/python3.7/dist-packages (from streamlit) (2.13.0)\n",
            "Requirement already satisfied: pandas>=0.21.0 in /usr/local/lib/python3.7/dist-packages (from streamlit) (1.3.5)\n",
            "Requirement already satisfied: cachetools>=4.0 in /usr/local/lib/python3.7/dist-packages (from streamlit) (4.2.4)\n",
            "Requirement already satisfied: tzlocal in /usr/local/lib/python3.7/dist-packages (from streamlit) (1.5.1)\n",
            "Requirement already satisfied: packaging in /usr/local/lib/python3.7/dist-packages (from streamlit) (21.3)\n",
            "Requirement already satisfied: pydeck>=0.1.dev5 in /usr/local/lib/python3.7/dist-packages (from streamlit) (0.7.1)\n",
            "Requirement already satisfied: click>=7.0 in /usr/local/lib/python3.7/dist-packages (from streamlit) (7.1.2)\n",
            "Requirement already satisfied: astor in /usr/local/lib/python3.7/dist-packages (from streamlit) (0.8.1)\n",
            "Requirement already satisfied: validators in /usr/local/lib/python3.7/dist-packages (from streamlit) (0.18.2)\n",
            "Requirement already satisfied: attrs in /usr/local/lib/python3.7/dist-packages (from streamlit) (21.4.0)\n",
            "Requirement already satisfied: pyarrow in /usr/local/lib/python3.7/dist-packages (from streamlit) (6.0.1)\n",
            "Requirement already satisfied: base58 in /usr/local/lib/python3.7/dist-packages (from streamlit) (2.1.1)\n",
            "Requirement already satisfied: typing-extensions in /usr/local/lib/python3.7/dist-packages (from streamlit) (3.10.0.2)\n",
            "Requirement already satisfied: protobuf!=3.11,>=3.6.0 in /usr/local/lib/python3.7/dist-packages (from streamlit) (3.17.3)\n",
            "Requirement already satisfied: toml in /usr/local/lib/python3.7/dist-packages (from streamlit) (0.10.2)\n",
            "Requirement already satisfied: altair>=3.2.0 in /usr/local/lib/python3.7/dist-packages (from streamlit) (4.2.0)\n",
            "Requirement already satisfied: blinker in /usr/local/lib/python3.7/dist-packages (from streamlit) (1.4)\n",
            "Requirement already satisfied: pympler>=0.9 in /usr/local/lib/python3.7/dist-packages (from streamlit) (1.0.1)\n",
            "Requirement already satisfied: numpy in /usr/local/lib/python3.7/dist-packages (from streamlit) (1.21.5)\n",
            "Requirement already satisfied: gitpython!=3.1.19 in /usr/local/lib/python3.7/dist-packages (from streamlit) (3.1.27)\n",
            "Requirement already satisfied: importlib-metadata>=1.4 in /usr/local/lib/python3.7/dist-packages (from streamlit) (4.11.2)\n",
            "Requirement already satisfied: entrypoints in /usr/local/lib/python3.7/dist-packages (from altair>=3.2.0->streamlit) (0.4)\n",
            "Requirement already satisfied: jsonschema>=3.0 in /usr/local/lib/python3.7/dist-packages (from altair>=3.2.0->streamlit) (4.3.3)\n",
            "Requirement already satisfied: toolz in /usr/local/lib/python3.7/dist-packages (from altair>=3.2.0->streamlit) (0.11.2)\n",
            "Requirement already satisfied: jinja2 in /usr/local/lib/python3.7/dist-packages (from altair>=3.2.0->streamlit) (2.11.3)\n",
            "Requirement already satisfied: gitdb<5,>=4.0.1 in /usr/local/lib/python3.7/dist-packages (from gitpython!=3.1.19->streamlit) (4.0.9)\n",
            "Requirement already satisfied: smmap<6,>=3.0.1 in /usr/local/lib/python3.7/dist-packages (from gitdb<5,>=4.0.1->gitpython!=3.1.19->streamlit) (5.0.0)\n",
            "Requirement already satisfied: zipp>=0.5 in /usr/local/lib/python3.7/dist-packages (from importlib-metadata>=1.4->streamlit) (3.7.0)\n",
            "Requirement already satisfied: pyrsistent!=0.17.0,!=0.17.1,!=0.17.2,>=0.14.0 in /usr/local/lib/python3.7/dist-packages (from jsonschema>=3.0->altair>=3.2.0->streamlit) (0.18.1)\n",
            "Requirement already satisfied: importlib-resources>=1.4.0 in /usr/local/lib/python3.7/dist-packages (from jsonschema>=3.0->altair>=3.2.0->streamlit) (5.4.0)\n",
            "Requirement already satisfied: pytz>=2017.3 in /usr/local/lib/python3.7/dist-packages (from pandas>=0.21.0->streamlit) (2018.9)\n",
            "Requirement already satisfied: six>=1.9 in /usr/local/lib/python3.7/dist-packages (from protobuf!=3.11,>=3.6.0->streamlit) (1.15.0)\n",
            "Requirement already satisfied: traitlets>=4.3.2 in /usr/local/lib/python3.7/dist-packages (from pydeck>=0.1.dev5->streamlit) (5.1.1)\n",
            "Requirement already satisfied: ipykernel>=5.1.2 in /usr/local/lib/python3.7/dist-packages (from pydeck>=0.1.dev5->streamlit) (6.9.1)\n",
            "Requirement already satisfied: ipywidgets>=7.0.0 in /usr/local/lib/python3.7/dist-packages (from pydeck>=0.1.dev5->streamlit) (7.6.5)\n",
            "Requirement already satisfied: nest-asyncio in /usr/local/lib/python3.7/dist-packages (from ipykernel>=5.1.2->pydeck>=0.1.dev5->streamlit) (1.5.4)\n",
            "Requirement already satisfied: jupyter-client<8.0 in /usr/local/lib/python3.7/dist-packages (from ipykernel>=5.1.2->pydeck>=0.1.dev5->streamlit) (5.3.5)\n",
            "Requirement already satisfied: ipython>=7.23.1 in /usr/local/lib/python3.7/dist-packages (from ipykernel>=5.1.2->pydeck>=0.1.dev5->streamlit) (7.32.0)\n",
            "Requirement already satisfied: matplotlib-inline<0.2.0,>=0.1.0 in /usr/local/lib/python3.7/dist-packages (from ipykernel>=5.1.2->pydeck>=0.1.dev5->streamlit) (0.1.3)\n",
            "Requirement already satisfied: debugpy<2.0,>=1.0.0 in /usr/local/lib/python3.7/dist-packages (from ipykernel>=5.1.2->pydeck>=0.1.dev5->streamlit) (1.0.0)\n",
            "Requirement already satisfied: backcall in /usr/local/lib/python3.7/dist-packages (from ipython>=7.23.1->ipykernel>=5.1.2->pydeck>=0.1.dev5->streamlit) (0.2.0)\n",
            "Requirement already satisfied: pickleshare in /usr/local/lib/python3.7/dist-packages (from ipython>=7.23.1->ipykernel>=5.1.2->pydeck>=0.1.dev5->streamlit) (0.7.5)\n",
            "Requirement already satisfied: decorator in /usr/local/lib/python3.7/dist-packages (from ipython>=7.23.1->ipykernel>=5.1.2->pydeck>=0.1.dev5->streamlit) (4.4.2)\n",
            "Requirement already satisfied: pygments in /usr/local/lib/python3.7/dist-packages (from ipython>=7.23.1->ipykernel>=5.1.2->pydeck>=0.1.dev5->streamlit) (2.6.1)\n",
            "Requirement already satisfied: setuptools>=18.5 in /usr/local/lib/python3.7/dist-packages (from ipython>=7.23.1->ipykernel>=5.1.2->pydeck>=0.1.dev5->streamlit) (57.4.0)\n",
            "Requirement already satisfied: prompt-toolkit!=3.0.0,!=3.0.1,<3.1.0,>=2.0.0 in /usr/local/lib/python3.7/dist-packages (from ipython>=7.23.1->ipykernel>=5.1.2->pydeck>=0.1.dev5->streamlit) (3.0.28)\n",
            "Requirement already satisfied: pexpect>4.3 in /usr/local/lib/python3.7/dist-packages (from ipython>=7.23.1->ipykernel>=5.1.2->pydeck>=0.1.dev5->streamlit) (4.8.0)\n",
            "Requirement already satisfied: jedi>=0.16 in /usr/local/lib/python3.7/dist-packages (from ipython>=7.23.1->ipykernel>=5.1.2->pydeck>=0.1.dev5->streamlit) (0.18.1)\n",
            "Requirement already satisfied: nbformat>=4.2.0 in /usr/local/lib/python3.7/dist-packages (from ipywidgets>=7.0.0->pydeck>=0.1.dev5->streamlit) (5.1.3)\n",
            "Requirement already satisfied: jupyterlab-widgets>=1.0.0 in /usr/local/lib/python3.7/dist-packages (from ipywidgets>=7.0.0->pydeck>=0.1.dev5->streamlit) (1.0.2)\n",
            "Requirement already satisfied: widgetsnbextension~=3.5.0 in /usr/local/lib/python3.7/dist-packages (from ipywidgets>=7.0.0->pydeck>=0.1.dev5->streamlit) (3.5.2)\n",
            "Requirement already satisfied: ipython-genutils~=0.2.0 in /usr/local/lib/python3.7/dist-packages (from ipywidgets>=7.0.0->pydeck>=0.1.dev5->streamlit) (0.2.0)\n",
            "Requirement already satisfied: parso<0.9.0,>=0.8.0 in /usr/local/lib/python3.7/dist-packages (from jedi>=0.16->ipython>=7.23.1->ipykernel>=5.1.2->pydeck>=0.1.dev5->streamlit) (0.8.3)\n",
            "Requirement already satisfied: MarkupSafe>=0.23 in /usr/local/lib/python3.7/dist-packages (from jinja2->altair>=3.2.0->streamlit) (2.0.1)\n",
            "Requirement already satisfied: jupyter-core>=4.6.0 in /usr/local/lib/python3.7/dist-packages (from jupyter-client<8.0->ipykernel>=5.1.2->pydeck>=0.1.dev5->streamlit) (4.9.2)\n",
            "Requirement already satisfied: pyzmq>=13 in /usr/local/lib/python3.7/dist-packages (from jupyter-client<8.0->ipykernel>=5.1.2->pydeck>=0.1.dev5->streamlit) (22.3.0)\n",
            "Requirement already satisfied: ptyprocess>=0.5 in /usr/local/lib/python3.7/dist-packages (from pexpect>4.3->ipython>=7.23.1->ipykernel>=5.1.2->pydeck>=0.1.dev5->streamlit) (0.7.0)\n",
            "Requirement already satisfied: wcwidth in /usr/local/lib/python3.7/dist-packages (from prompt-toolkit!=3.0.0,!=3.0.1,<3.1.0,>=2.0.0->ipython>=7.23.1->ipykernel>=5.1.2->pydeck>=0.1.dev5->streamlit) (0.2.5)\n",
            "Requirement already satisfied: notebook>=4.4.1 in /usr/local/lib/python3.7/dist-packages (from widgetsnbextension~=3.5.0->ipywidgets>=7.0.0->pydeck>=0.1.dev5->streamlit) (5.3.1)\n",
            "Requirement already satisfied: terminado>=0.8.1 in /usr/local/lib/python3.7/dist-packages (from notebook>=4.4.1->widgetsnbextension~=3.5.0->ipywidgets>=7.0.0->pydeck>=0.1.dev5->streamlit) (0.13.1)\n",
            "Requirement already satisfied: nbconvert in /usr/local/lib/python3.7/dist-packages (from notebook>=4.4.1->widgetsnbextension~=3.5.0->ipywidgets>=7.0.0->pydeck>=0.1.dev5->streamlit) (5.6.1)\n",
            "Requirement already satisfied: Send2Trash in /usr/local/lib/python3.7/dist-packages (from notebook>=4.4.1->widgetsnbextension~=3.5.0->ipywidgets>=7.0.0->pydeck>=0.1.dev5->streamlit) (1.8.0)\n",
            "Requirement already satisfied: mistune<2,>=0.8.1 in /usr/local/lib/python3.7/dist-packages (from nbconvert->notebook>=4.4.1->widgetsnbextension~=3.5.0->ipywidgets>=7.0.0->pydeck>=0.1.dev5->streamlit) (0.8.4)\n",
            "Requirement already satisfied: pandocfilters>=1.4.1 in /usr/local/lib/python3.7/dist-packages (from nbconvert->notebook>=4.4.1->widgetsnbextension~=3.5.0->ipywidgets>=7.0.0->pydeck>=0.1.dev5->streamlit) (1.5.0)\n",
            "Requirement already satisfied: testpath in /usr/local/lib/python3.7/dist-packages (from nbconvert->notebook>=4.4.1->widgetsnbextension~=3.5.0->ipywidgets>=7.0.0->pydeck>=0.1.dev5->streamlit) (0.6.0)\n",
            "Requirement already satisfied: defusedxml in /usr/local/lib/python3.7/dist-packages (from nbconvert->notebook>=4.4.1->widgetsnbextension~=3.5.0->ipywidgets>=7.0.0->pydeck>=0.1.dev5->streamlit) (0.7.1)\n",
            "Requirement already satisfied: bleach in /usr/local/lib/python3.7/dist-packages (from nbconvert->notebook>=4.4.1->widgetsnbextension~=3.5.0->ipywidgets>=7.0.0->pydeck>=0.1.dev5->streamlit) (4.1.0)\n",
            "Requirement already satisfied: webencodings in /usr/local/lib/python3.7/dist-packages (from bleach->nbconvert->notebook>=4.4.1->widgetsnbextension~=3.5.0->ipywidgets>=7.0.0->pydeck>=0.1.dev5->streamlit) (0.5.1)\n",
            "Requirement already satisfied: pyparsing!=3.0.5,>=2.0.2 in /usr/local/lib/python3.7/dist-packages (from packaging->streamlit) (3.0.7)\n",
            "Requirement already satisfied: chardet<4,>=3.0.2 in /usr/local/lib/python3.7/dist-packages (from requests->streamlit) (3.0.4)\n",
            "Requirement already satisfied: urllib3!=1.25.0,!=1.25.1,<1.26,>=1.21.1 in /usr/local/lib/python3.7/dist-packages (from requests->streamlit) (1.24.3)\n",
            "Requirement already satisfied: idna<3,>=2.5 in /usr/local/lib/python3.7/dist-packages (from requests->streamlit) (2.10)\n",
            "Requirement already satisfied: certifi>=2017.4.17 in /usr/local/lib/python3.7/dist-packages (from requests->streamlit) (2021.10.8)\n"
          ]
        }
      ],
      "source": [
        "!pip install streamlit"
      ]
    },
    {
      "cell_type": "code",
      "execution_count": null,
      "metadata": {
        "colab": {
          "base_uri": "https://localhost:8080/"
        },
        "id": "z0ZC9x4D2jUE",
        "outputId": "082753aa-84ed-4721-b8d5-eb9e95353653"
      },
      "outputs": [
        {
          "output_type": "stream",
          "name": "stdout",
          "text": [
            "--2022-03-08 19:57:53--  https://bin.equinox.io/c/4VmDzA7iaHb/ngrok-stable-linux-amd64.zip\n",
            "Resolving bin.equinox.io (bin.equinox.io)... 54.237.133.81, 52.202.168.65, 54.161.241.46, ...\n",
            "Connecting to bin.equinox.io (bin.equinox.io)|54.237.133.81|:443... connected.\n",
            "HTTP request sent, awaiting response... 200 OK\n",
            "Length: 13832437 (13M) [application/octet-stream]\n",
            "Saving to: ‘ngrok-stable-linux-amd64.zip.6’\n",
            "\n",
            "ngrok-stable-linux- 100%[===================>]  13.19M  6.06MB/s    in 2.2s    \n",
            "\n",
            "2022-03-08 19:57:56 (6.06 MB/s) - ‘ngrok-stable-linux-amd64.zip.6’ saved [13832437/13832437]\n",
            "\n"
          ]
        }
      ],
      "source": [
        "!wget https://bin.equinox.io/c/4VmDzA7iaHb/ngrok-stable-linux-amd64.zip"
      ]
    },
    {
      "cell_type": "code",
      "execution_count": null,
      "metadata": {
        "colab": {
          "base_uri": "https://localhost:8080/"
        },
        "id": "TSdzp8LnkHI4",
        "outputId": "017eb0e9-a660-4830-c884-10cbc8795edd"
      },
      "outputs": [
        {
          "output_type": "stream",
          "name": "stdout",
          "text": [
            "Archive:  ngrok-stable-linux-amd64.zip\n",
            "replace ngrok? [y]es, [n]o, [A]ll, [N]one, [r]ename: y\n",
            "  inflating: ngrok                   \n"
          ]
        }
      ],
      "source": [
        "!unzip ngrok-stable-linux-amd64.zip"
      ]
    },
    {
      "cell_type": "code",
      "execution_count": 30,
      "metadata": {
        "id": "R3HF88e2kPWd",
        "colab": {
          "base_uri": "https://localhost:8080/"
        },
        "outputId": "fbe6c452-75cb-4e37-9129-93ef25fdefa0"
      },
      "outputs": [
        {
          "output_type": "stream",
          "name": "stdout",
          "text": [
            "Authtoken saved to configuration file: /root/.ngrok2/ngrok.yml\n"
          ]
        }
      ],
      "source": [
        "get_ipython().system_raw('./ngrok authtoken 265lteDvFQPBekuZDZLqxXweq5s_5RbJoqbkpRU3BvmKrTJCS')"
      ]
    },
    {
      "cell_type": "code",
      "execution_count": 31,
      "metadata": {
        "id": "zC2KTypVkelU"
      },
      "outputs": [],
      "source": [
        "get_ipython().system_raw('./ngrok http 8501 &')"
      ]
    },
    {
      "cell_type": "code",
      "execution_count": 32,
      "metadata": {
        "colab": {
          "base_uri": "https://localhost:8080/"
        },
        "id": "rjT-gphVlUV_",
        "outputId": "f9315466-3802-4361-cc70-249e5f13793f"
      },
      "outputs": [
        {
          "output_type": "stream",
          "name": "stdout",
          "text": [
            "Execute the next cell and the go to the following URL: http://211f-35-201-132-251.ngrok.io\n"
          ]
        }
      ],
      "source": [
        "!curl -s http://localhost:4040/api/tunnels | python3 -c \\\n",
        "    'import sys, json; print(\"Execute the next cell and the go to the following URL: \" +json.load(sys.stdin)[\"tunnels\"][0][\"public_url\"])'"
      ]
    },
    {
      "cell_type": "code",
      "execution_count": 33,
      "metadata": {
        "colab": {
          "base_uri": "https://localhost:8080/"
        },
        "id": "aM8Q5iVlI9R0",
        "outputId": "e8a6e68d-3e53-42d4-f5b6-2348c7efd4e4"
      },
      "outputs": [
        {
          "output_type": "stream",
          "name": "stdout",
          "text": [
            "Drive already mounted at /content/drive; to attempt to forcibly remount, call drive.mount(\"/content/drive\", force_remount=True).\n"
          ]
        }
      ],
      "source": [
        "from google.colab import drive\n",
        "drive.mount('/content/drive')"
      ]
    },
    {
      "cell_type": "code",
      "source": [
        "%%writefile empleados.py\n",
        "\n",
        "import pandas as pd\n",
        "import numpy as np\n",
        "import streamlit as st\n",
        "import matplotlib.pyplot as plt\n",
        "import re\n",
        "\n",
        "DATA_URL = '/content/drive/MyDrive/Employees.csv'\n",
        "\n",
        "st.title('Parcial 1 - Empleados')\n",
        "\n",
        "sidebar = st.sidebar\n",
        "\n",
        "st.header('Integrantes')\n",
        "st.text('Irais Aguirre Valente   ')\n",
        "st.text('Judith Maldonado Garcia  ')\n",
        "st.text('ISW 602')\n",
        "\n",
        "st.markdown(\"___\")\n",
        "\n",
        "@st.cache\n",
        "def cargar_data(nrows):\n",
        "    data = pd.read_csv(DATA_URL, nrows=nrows, encoding_errors='ignore')\n",
        "    return data\n",
        "\n",
        "data = cargar_data(500) \n",
        "\n",
        "checkbox_datos = sidebar.checkbox(\"Mostrar todos los datos\", key =\"Dataframe\")\n",
        "if checkbox_datos:\n",
        "  estado = st.text('Cargando...')\n",
        "  data = cargar_data(500)  \n",
        "  estado.text(\"¡Cargado! (usando st.cache)\")\n",
        "  st.dataframe(data)\n",
        "  \n",
        "sidebar.markdown(\"___\")\n",
        "\n",
        "@st.cache\n",
        "def cargar_data_empleados_id(id):  \n",
        "  filtrar = data[data['Employee_ID'].str.contains(id,flags=re.IGNORECASE)]  \n",
        "  return filtrar\n",
        "\n",
        "@st.cache\n",
        "def cargar_data_ciudad(hometown):  \n",
        "  filtrar = data[data['Hometown'].str.contains(hometown,flags=re.IGNORECASE)]  \n",
        "  return filtrar\n",
        "\n",
        "@st.cache\n",
        "def cargar_data_unidad(unit):  \n",
        "  filtrar = data[data['Unit'].str.contains(unit, flags=re.IGNORECASE)]\n",
        "  return filtrar\n",
        "\n",
        "sidebar.subheader(\"Buscador empleados\")\n",
        "\n",
        "inputID = st.sidebar.text_input('Ingrese el ID: ')\n",
        "btnFiltrarId = sidebar.button('Buscar ID')\n",
        "\n",
        "inputCiudadNatal = st.sidebar.text_input('Ingrese la ciudad: ')\n",
        "btnFiltrarCiudadNatal = sidebar.button('Buscar ciudad')\n",
        "\n",
        "inputTrabajo = st.sidebar.text_input('Ingrese la unidad de trabajo: ')\n",
        "btnFiltrarTrabajo = sidebar.button('Buscar unidad')\n",
        "\n",
        "if (btnFiltrarId):\n",
        "  st.write (\"ID buscado: \"+ inputID)\n",
        "  filtrar = cargar_data_empleados_id(inputID)\n",
        "  count_row = filtrar.shape[0]\n",
        "  st.write(f'Total: {count_row}')\n",
        "  st.dataframe(filtrar)\n",
        "\n",
        "if (btnFiltrarCiudadNatal):\n",
        "  st.write (\"Ciudad buscada: \"+ inputCiudadNatal)\n",
        "  filtrar = cargar_data_ciudad(inputCiudadNatal)\n",
        "  count_row = filtrar.shape[0]\n",
        "  st.write(f'Total: {count_row}')\n",
        "\n",
        "  st.dataframe(filtrar)\n",
        "\n",
        "if (btnFiltrarTrabajo):\n",
        "  st.write (\"Trabajo buscado: \"+ inputTrabajo)\n",
        "  filtrar = cargar_data_unidad(inputTrabajo)\n",
        "  count_row = filtrar.shape[0]\n",
        "  st.write(f'Total: {count_row}')\n",
        "\n",
        "  st.dataframe(filtrar)\n",
        "\n",
        "sidebar.markdown(\"___\")\n",
        "\n",
        "sidebar.subheader(\"Buscador empleados por nivel educativo\")\n",
        "\n",
        "@st.cache\n",
        "def cargar_data_nivel(level):\n",
        "  filtrar_data_nivel = data[data['Education_Level'] == level]\n",
        "  return filtrar_data_nivel\n",
        "\n",
        "selected = sidebar.selectbox(\"Selecciona el Nivel educativo\", data['Education_Level'].unique())\n",
        "btnFilternivel = sidebar.button('Filtrar por Nivel educativo')\n",
        "\n",
        "if (btnFilternivel): \n",
        "  st.write(\"Empleados con nivel educativo \"+ str(selected))\n",
        "  filternivel = cargar_data_nivel(selected)\n",
        "  count_row = filternivel.shape[0]\n",
        "  st.write(f'Total: {count_row}')\n",
        "\n",
        "  st.dataframe(filternivel)\n",
        "sidebar.markdown(\"___\")\n",
        "\n",
        "sidebar.subheader(\"Buscador empleados por ciudad natal\")\n",
        "\n",
        "@st.cache\n",
        "def cargar_data_ciudad(home):\n",
        "  filtrar_data_ciudad = data[data['Hometown'] == home]\n",
        "  return filtrar_data_ciudad\n",
        "\n",
        "selectedHome = sidebar.selectbox(\"Selecciona la ciudad natal\", data['Hometown'].unique())\n",
        "btnFilterciudad = sidebar.button('Filtrar por Ciudad')\n",
        "\n",
        "if (btnFilterciudad): \n",
        "  st.write(\"Empleados con Ciudad natal \"+ str(selectedHome))\n",
        "  filterciudad = cargar_data_ciudad(selectedHome)\n",
        "  count_row = filterciudad.shape[0]\n",
        "  st.write(f'Total: {count_row}')\n",
        "\n",
        "  st.dataframe(filterciudad)\n",
        "sidebar.markdown(\"___\")\n",
        "\n",
        "@st.cache\n",
        "def cargar_data_unidad(unit):\n",
        "  filtrar_data_unidad = data[data['Unit'] == unit]\n",
        "  return filtrar_data_unidad\n",
        "\n",
        "selectedUnit = sidebar.selectbox(\"Selecciona el trabajo\", data['Unit'].unique())\n",
        "btnFilterunidad = sidebar.button('Filtrar por Trabajo')\n",
        "\n",
        "if (btnFilterunidad): \n",
        "  st.write(\"Empleados con el trabajo \"+ str(selectedUnit))\n",
        "  filterunidad = cargar_data_unidad(selectedUnit)\n",
        "  count_row = filterunidad.shape[0]\n",
        "  st.write(f'Total: {count_row}')\n",
        "\n",
        "  st.dataframe(filterunidad)\n",
        "  \n",
        "sidebar.markdown(\"___\")\n",
        "\n",
        "sidebar.subheader(\"Graficas\")\n",
        "\n",
        "\n",
        "checkboxHis = sidebar.checkbox(\"Histograma de edades \",key = \"edades\")\n",
        "if checkboxHis:\n",
        "  fig, ax = plt.subplots()\n",
        "\n",
        "  ax.hist(data['Age'], color='#F2AB6D', rwidth=0.85)\n",
        "  ax.set_xlabel(\"Edad\")\n",
        "  ax.set_ylabel(\"Numero de empleados\")\n",
        "  st.header(\"Histograma de empleados por edad\")\n",
        "\n",
        "  st.pyplot(fig)\n",
        "\n",
        "  st.markdown(\"___\")\n",
        "\n",
        " \n",
        "checkbox_frecuencia = sidebar.checkbox(\"Gráfica de frecuencia unidad de trabajo \",key = \"frecuencia\")\n",
        "if checkbox_frecuencia:\n",
        "  fig, ax = plt.subplots()\n",
        "\n",
        "  ax.hist(data['Unit'],color =  \"#c39bd3\", rwidth=0.85)\n",
        "  ax.set_xlabel(\"Trabajo\")\n",
        "  ax.set_ylabel(\"Numero de empleados\")\n",
        "  st.header('Gráfica de frecuencia de empleados por unidad de trabajo')\n",
        "  plt.setp(ax.get_xticklabels(), rotation=45, ha='right')\n",
        "  st.pyplot(fig)\n",
        "  \n",
        "  st.markdown(\"___\")\n",
        "\n",
        "\n",
        "checkbox_desercion = sidebar.checkbox(\"Indice de deserción por ciudad \",key = \"desercion\")\n",
        "if checkbox_desercion:\n",
        "  fig, ax = plt.subplots()\n",
        "\n",
        "  y_pos = data['Attrition_rate']\n",
        "  x_pos = data['Hometown']\n",
        "\n",
        "  ax.bar(x_pos, y_pos,color = \"#76448A\")\n",
        "  ax.set_ylabel(\"Desercion\")\n",
        "  ax.set_xlabel(\"Ciudad natal\")\n",
        "  ax.set_title('¿Cuantos empleados desertaron por ciudad?')\n",
        "\n",
        "  st.header(\"Indice de deserción por ciudad\")\n",
        "\n",
        "  st.pyplot(fig)\n",
        "\n",
        "  st.markdown(\"___\")\n",
        "\n",
        "\n",
        "\n",
        "checkbox_edad = sidebar.checkbox(\"Indice de deserción por edad \", key = \"desEdad\")\n",
        "if checkbox_edad:\n",
        "  fig, ax = plt.subplots()\n",
        "\n",
        "  y_pos = data['Attrition_rate']\n",
        "  x_pos = data['Age']\n",
        "\n",
        "  ax.barh(x_pos, y_pos, color = \"#229954\")\n",
        "  ax.set_xlabel(\"Desercion\")\n",
        "  ax.set_ylabel(\"Edad\")\n",
        "  ax.set_title('¿Cuantos empleados desertaron por edad?')\n",
        "\n",
        "  st.header(\"Indice de deserción por edad\")\n",
        "\n",
        "  st.pyplot(fig)\n",
        "\n",
        "  st.markdown(\"___\")\n",
        "\n",
        "\n",
        "checkbox_servicio = sidebar.checkbox(\"Indice de deserción por Tiempo de servicio \",key = \"service\")\n",
        "if checkbox_servicio:\n",
        "  fig, ax = plt.subplots()\n",
        "\n",
        "  y_pos = data['Attrition_rate']\n",
        "  x_pos = data['Time_of_service']\n",
        "\n",
        "  ax.bar(x_pos, y_pos, color = \"#DF39DD\")\n",
        "  ax.set_ylabel(\"Desercion\")\n",
        "  ax.set_xlabel(\"Tiempo de servicio\")\n",
        "  ax.set_title('¿Cuantos empleados desertaron por tiempo de servicio?')\n",
        "\n",
        "  st.header(\"Indice de deserción por tiempo de servicio\")\n",
        "\n",
        "  st.pyplot(fig)\n",
        "\n",
        "  st.markdown(\"___\")"
      ],
      "metadata": {
        "colab": {
          "base_uri": "https://localhost:8080/"
        },
        "id": "sHO6J735EerG",
        "outputId": "f786e64e-c7b1-4e26-92ee-96edf9a1b16a"
      },
      "execution_count": 34,
      "outputs": [
        {
          "output_type": "stream",
          "name": "stdout",
          "text": [
            "Overwriting empleados.py\n"
          ]
        }
      ]
    },
    {
      "cell_type": "code",
      "execution_count": null,
      "metadata": {
        "colab": {
          "base_uri": "https://localhost:8080/"
        },
        "id": "s6uw1JUnJeEJ",
        "outputId": "1bd1edbd-c440-47a0-ac5f-823aff900ffb"
      },
      "outputs": [
        {
          "output_type": "stream",
          "name": "stdout",
          "text": [
            "2022-03-08 20:11:21.326 INFO    numexpr.utils: NumExpr defaulting to 2 threads.\n",
            "\u001b[0m\n",
            "\u001b[34m\u001b[1m  You can now view your Streamlit app in your browser.\u001b[0m\n",
            "\u001b[0m\n",
            "\u001b[34m  Network URL: \u001b[0m\u001b[1mhttp://172.28.0.2:8501\u001b[0m\n",
            "\u001b[34m  External URL: \u001b[0m\u001b[1mhttp://35.201.132.251:8501\u001b[0m\n",
            "\u001b[0m\n"
          ]
        }
      ],
      "source": [
        "!streamlit run /content/empleados.py\n"
      ]
    }
  ],
  "metadata": {
    "colab": {
      "collapsed_sections": [],
      "name": "parcial1-empleados.ipynb",
      "provenance": [],
      "include_colab_link": true
    },
    "kernelspec": {
      "display_name": "Python 3",
      "name": "python3"
    },
    "language_info": {
      "name": "python"
    }
  },
  "nbformat": 4,
  "nbformat_minor": 0
}